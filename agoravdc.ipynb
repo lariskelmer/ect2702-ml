{
  "nbformat": 4,
  "nbformat_minor": 0,
  "metadata": {
    "colab": {
      "name": "agoravdc",
      "version": "0.3.2",
      "provenance": [],
      "collapsed_sections": [],
      "include_colab_link": true
    },
    "kernelspec": {
      "name": "python2",
      "display_name": "Python 2"
    }
  },
  "cells": [
    {
      "cell_type": "markdown",
      "metadata": {
        "id": "view-in-github",
        "colab_type": "text"
      },
      "source": [
        "[View in Colaboratory](https://colab.research.google.com/github/lariskelmer/ect2702-ml/blob/master/agoravdc.ipynb)"
      ]
    },
    {
      "metadata": {
        "id": "Hz_xArFCvNjs",
        "colab_type": "code",
        "colab": {}
      },
      "cell_type": "code",
      "source": [
        "import numpy as np\n",
        "import pandas as pd\n",
        "import matplotlib.pyplot as plt\n",
        "from matplotlib.colors import ListedColormap\n",
        "\n",
        "\n",
        "class Perceptron(object):\n",
        "\n",
        "  def __init__(self, vet_entrada, epochs, tx_aprendizado):\n",
        "\n",
        "    self.w = np.zeros(vet_entrada + 1)\n",
        "    self.tx = tx_aprendizado\n",
        "    self.input = vet_entrada\n",
        "    self.epochs = epochs\n",
        "\n",
        "  def ativacao(self, entrada):\n",
        "\n",
        "    return 1 if entrada >= 0 else 0\n",
        "\n",
        "  def predizer(self, input):    \n",
        "    \n",
        "    predct = np.dot(input, self.w[1:]) + self.w[0] \n",
        "    #função que faz a multiplicação entre vetores input e w depois da primeira \n",
        "    #posição  \n",
        "    #depois soma-se tudo ao BIA\n",
        "  \n",
        "    return self.ativacao(predct)\n",
        "  \n",
        "  def train(self, input_treino, rotulos):  \n",
        "    for _ in range(self.epochs):\n",
        "      for entrada, rotulo in zip(input_treino, rotulos):\n",
        "        \n",
        "        predct=self.predizer(entrada)\n",
        "        \n",
        "        self.w[1:] += self.tx * (rotulo - predct) * entrada\n",
        "                # Atualiza o bias\n",
        "        self.w[0] += self.tx * (rotulo - predct)"
      ],
      "execution_count": 0,
      "outputs": []
    },
    {
      "metadata": {
        "id": "P5I1Ndwf4zUv",
        "colab_type": "code",
        "colab": {}
      },
      "cell_type": "code",
      "source": [
        "traindata = np.array([\n",
        "    [0,0], [0,1],[1,0],[1,1]\n",
        "])\n",
        "trainlbl = np.array([\n",
        "    [0],[0],[0],[1]\n",
        "])\n",
        "\n",
        "meuperceptron1 = Perceptron(2, 100, 0.01)\n",
        "\n",
        "meuperceptron1.train(traindata, trainlbl)\n"
      ],
      "execution_count": 0,
      "outputs": []
    },
    {
      "metadata": {
        "id": "DRmtOZYU6B7o",
        "colab_type": "code",
        "colab": {
          "base_uri": "https://localhost:8080/",
          "height": 173
        },
        "outputId": "8496e3bf-24d1-45b4-9820-27587fcfba2c"
      },
      "cell_type": "code",
      "source": [
        "testedata = np.array([\n",
        "    [-1,1],[0,-1],[1,-1],[-1,-1],[0.5,0.7], [5,5], [6,7],[666,666]\n",
        "])\n",
        "testelbl = np.array([\n",
        "    [0], [0], [0], [0], [0], [1], [1], [1]\n",
        "])\n",
        "\n",
        "print(\"Perceptron preditions:   \")\n",
        "for index, element in enumerate(testedata):\n",
        "  print(\"predição para: {} foi {} mas o esperado era {}\".format(element, meuperceptron1.predizer(element), testelbl[index]))\n"
      ],
      "execution_count": 13,
      "outputs": [
        {
          "output_type": "stream",
          "text": [
            "Perceptron preditions:   \n",
            "predição para: [-1.  1.] foi 0 mas o esperado era [0]\n",
            "predição para: [ 0. -1.] foi 0 mas o esperado era [0]\n",
            "predição para: [ 1. -1.] foi 0 mas o esperado era [0]\n",
            "predição para: [-1. -1.] foi 0 mas o esperado era [0]\n",
            "predição para: [0.5 0.7] foi 0 mas o esperado era [0]\n",
            "predição para: [5. 5.] foi 1 mas o esperado era [1]\n",
            "predição para: [6. 7.] foi 1 mas o esperado era [1]\n",
            "predição para: [666. 666.] foi 1 mas o esperado era [1]\n"
          ],
          "name": "stdout"
        }
      ]
    }
  ]
}