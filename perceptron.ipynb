{
  "nbformat": 4,
  "nbformat_minor": 0,
  "metadata": {
    "colab": {
      "name": ".ipynb",
      "version": "0.3.2",
      "provenance": [],
      "include_colab_link": true
    },
    "kernelspec": {
      "name": "python2",
      "display_name": "Python 2"
    }
  },
  "cells": [
    {
      "cell_type": "markdown",
      "metadata": {
        "id": "view-in-github",
        "colab_type": "text"
      },
      "source": [
        "[View in Colaboratory](https://colab.research.google.com/github/lariskelmer/ect2702-ml/blob/master/perceptron.ipynb)"
      ]
    },
    {
      "metadata": {
        "id": "Hz_xArFCvNjs",
        "colab_type": "code",
        "colab": {}
      },
      "cell_type": "code",
      "source": [
        "import numpy as np\n",
        "import pandas as pd\n",
        "import matplotlib.pyplot as plt\n",
        "from matplotlib.colors import ListedColormap\n",
        "\n",
        "\n",
        "class Perceptron(object):\n",
        "\n",
        "  def __init__(self, vet_entrada, epochs, tx_aprendizado):\n",
        "\n",
        "    self.w = np.zeros(vet_entrada + 1)\n",
        "    self.tx = tx_aprendizado\n",
        "    self.input = vet_entrada\n",
        "    self.epochs = epochs\n",
        "\n",
        "  def ativacao(self, entrada):\n",
        "\n",
        "    return 1 if entrada >= 0 else 0\n",
        "\n",
        "  def predizer(self, input):    \n",
        "    \n",
        "    predct = np.dot(input, self.w[1:]) + self.w[0] \n",
        "    #função que faz a multiplicação entre vetores input e w depois da primeira \n",
        "    #posição  \n",
        "    #depois soma-se tudo ao BIA\n",
        "  \n",
        "    return self.sgn_activation(predct)\n",
        "  \n",
        "  def test(self, input_treino, rotulos):\n",
        "    \n",
        "    rotulos = self.rotulos\n",
        "    \n",
        "    entrada_treino = [0, 0, 0]\n",
        "    \n",
        "    for i in self.epochs:\n",
        "      \n",
        "      self.w[1:0]= self.w[1:]+self.tx*(self.rotulo-self.predct)*self.input\n",
        "      self.w[:0] = self.w[:0]+self.tx*(self.rotulos-self.predct)\n",
        "      #BIA=a 1ªposi do vetor"
      ],
      "execution_count": 0,
      "outputs": []
    },
    {
      "metadata": {
        "id": "P5I1Ndwf4zUv",
        "colab_type": "code",
        "colab": {
          "base_uri": "https://localhost:8080/",
          "height": 231
        },
        "outputId": "59be7243-e4ee-4142-9f78-cc9c2c85bc08"
      },
      "cell_type": "code",
      "source": [
        "#1) testando:\n",
        "\n",
        "# Cria o array de entradas\n",
        "\n",
        "input = np.array([[0,0,1], [1,1,0], [1,1,1]])\n",
        "\n",
        "# Cria um rotulo para cada entrada\n",
        "rotulos = np.array([-1, 1, 0])\n",
        "\n",
        "w = [0.4, -0.6, 0.6]\n",
        "\n",
        "# Instancia um Perceptron\n",
        "perceptron = Perceptron(3,w,0.4)\n",
        "\n",
        "# Treina o Perceptron para os dados de entrada\n",
        "perceptron.train(entradas, rotulos)\n",
        "\n",
        "\n",
        "for i in testes:\n",
        "    print(\"Predicao para {} foi {}\".format(\n",
        "            i, perceptron.predict(i)\n",
        "        )\n",
        "    )"
      ],
      "execution_count": 20,
      "outputs": [
        {
          "output_type": "error",
          "ename": "AttributeError",
          "evalue": "ignored",
          "traceback": [
            "\u001b[0;31m\u001b[0m",
            "\u001b[0;31mAttributeError\u001b[0mTraceback (most recent call last)",
            "\u001b[0;32m<ipython-input-20-d85037bb1ebd>\u001b[0m in \u001b[0;36m<module>\u001b[0;34m()\u001b[0m\n\u001b[1;32m     11\u001b[0m \u001b[0;34m\u001b[0m\u001b[0m\n\u001b[1;32m     12\u001b[0m \u001b[0;31m# Treina o Perceptron para os dados de entrada\u001b[0m\u001b[0;34m\u001b[0m\u001b[0;34m\u001b[0m\u001b[0m\n\u001b[0;32m---> 13\u001b[0;31m \u001b[0mperceptron\u001b[0m\u001b[0;34m.\u001b[0m\u001b[0mtrain\u001b[0m\u001b[0;34m(\u001b[0m\u001b[0mentradas\u001b[0m\u001b[0;34m,\u001b[0m \u001b[0mrotulos\u001b[0m\u001b[0;34m)\u001b[0m\u001b[0;34m\u001b[0m\u001b[0m\n\u001b[0m\u001b[1;32m     14\u001b[0m \u001b[0;34m\u001b[0m\u001b[0m\n\u001b[1;32m     15\u001b[0m \u001b[0;34m\u001b[0m\u001b[0m\n",
            "\u001b[0;31mAttributeError\u001b[0m: 'Perceptron' object has no attribute 'train'"
          ]
        }
      ]
    },
    {
      "metadata": {
        "id": "DRmtOZYU6B7o",
        "colab_type": "code",
        "colab": {}
      },
      "cell_type": "code",
      "source": [
        "#2)\n",
        "\n"
      ],
      "execution_count": 0,
      "outputs": []
    }
  ]
}