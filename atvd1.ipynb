{
  "nbformat": 4,
  "nbformat_minor": 0,
  "metadata": {
    "colab": {
      "name": "Untitled0.ipynb",
      "version": "0.3.2",
      "provenance": [],
      "include_colab_link": true
    },
    "kernelspec": {
      "name": "python2",
      "display_name": "Python 2"
    }
  },
  "cells": [
    {
      "cell_type": "markdown",
      "metadata": {
        "id": "view-in-github",
        "colab_type": "text"
      },
      "source": [
        "[View in Colaboratory](https://colab.research.google.com/github/lariskelmer/ect2702-ml/blob/master/atvd1.ipynb)"
      ]
    },
    {
      "metadata": {
        "id": "OQC-S0j2gP5P",
        "colab_type": "code",
        "colab": {
          "base_uri": "https://localhost:8080/",
          "height": 996
        },
        "outputId": "22957991-a1db-4a32-c504-77b338637961"
      },
      "cell_type": "code",
      "source": [
        "import os\n",
        "import tarfile\n",
        "from six.moves import urllib\n",
        "import pandas as pd\n",
        "import matplotlib.pyplot as plt\n",
        "from sklearn.utils import shuffle\n",
        "from sklearn import linear_model\n",
        "from sklearn.metrics import mean_squared_error, r2_score\n",
        "\n",
        "FILE_TO_DOWNLOAD =  \"Salary_Data.csv\"\n",
        "DOWNLOAD_ROOT = \"https://github.com/ect-info/ml/raw/master/\"\n",
        "DATA_PATH = \"dados/\"\n",
        "DATA_URL = DOWNLOAD_ROOT + DATA_PATH + FILE_TO_DOWNLOAD\n",
        "#forma de dar um up nos dados\n",
        "\n",
        "#forma para fazer a leitura dos dados no local:\n",
        "#salary_data = pd.read_csv(\"../data/salary_data.csv\")\n",
        "#importando arquivo csv pro Python using read_csv() da biblioteca pandas\n",
        "\n",
        "\n",
        "def fetch_data(data_url=DATA_URL, data_path=DATA_PATH, file_to_download=FILE_TO_DOWNLOAD):\n",
        "  \n",
        "  if not os.path.isdir(data_path):\n",
        "   #caso o diretório não exista no path\n",
        "    \n",
        "    os.makedirs(data_path)\n",
        "    #cria-se um diretório no computador (ou local ou uma máquina virtual: o que\n",
        "    #vai entre parênteses ou é uma string com o caminho acrescentando, ao fim, \n",
        "    #o nome do diretório a ser criado, ou é o nome do diretório que irá pra \n",
        "    #aonde se está)\n",
        "    \n",
        "  urllib.request.urlretrieve(data_url, data_path+\"Salary_Data.csv\") \n",
        "  #faz uma requisição em 1 e joga em 2  \n",
        "fetch_data()\n",
        "\n",
        "\n",
        "def up_data(data_path=DATA_PATH, file_to_download=FILE_TO_DOWNLOAD):\n",
        "  \n",
        "  csv_path = os.path.join(data_path,file_to_download)\n",
        "  \n",
        "  return pd.read_csv(csv_path)\n",
        "\n",
        "\n",
        "salary_data = up_data()\n",
        "print(salary_data)\n",
        "\n",
        "salary_data=shuffle(salary_data)\n",
        "#embaralhar e alocar na mesma variável\n",
        "\n",
        "\n",
        "#https://stackoverflow.com/questions/35076223/how-to-randomly-shuffle-data-and-target-in-python\n",
        "\n",
        "  # Separando os dados para a variável independente e para variável dependete \n",
        "salary_x_data = salary_data.iloc[:,:-1].values\n",
        "salary_y_data = salary_data.iloc[:, 1].values\n",
        "\n",
        "# Separa os dados para treino e teste\n",
        "salary_x_train = salary_x_data[:20, :]\n",
        "#pega os 20 últimos em x\n",
        "salary_x_test = salary_x_data[-10:, :]\n",
        "#pega os 10 primeiros em x\n",
        "\n",
        "salary_y_train = salary_y_data[:20]\n",
        "#pega os 20 últimos em y\n",
        "salary_y_test = salary_y_data[-10:]\n",
        "#pega os 20 últimos em y\n",
        "\n",
        "model = linear_model.LinearRegression()\n",
        "\n",
        "# Treina o modelo\n",
        "model.fit(salary_x_train, salary_y_train)\n",
        "\n",
        "# Predições para os dados de teste\n",
        "salary_y_predct = model.predict(salary_x_test)\n",
        "\n",
        "# Coeficientes do modelo\n",
        "print(\"Coefficient: %s\\n\" % model.coef_)\n",
        "\n",
        "# Erro médio quadrado\n",
        "print(\"Mean squared error: %.3f\" % mean_squared_error(salary_y_test, salary_y_predct))\n",
        "\n",
        "# Variância (1 classificação perfeita)\n",
        "print(\"Variance score: %.3f\" % r2_score(salary_y_test, salary_y_predct))\n",
        "\n",
        "# Plota os resultados\n",
        "\n",
        "plt.title('Linear Regression') \n",
        "plt.xlabel('Years of Experience')\n",
        "plt.ylabel('Salary')\n",
        "\n",
        "plt.scatter(salary_x_test, salary_y_test, color='red')\n",
        "plt.plot(salary_x_test, salary_y_predct, color='blue', linewidth=2)\n",
        "\n",
        "plt.tight_layout()\n",
        "plt.show()"
      ],
      "execution_count": 8,
      "outputs": [
        {
          "output_type": "stream",
          "text": [
            "    YearsExperience    Salary\n",
            "0               1.1   39343.0\n",
            "1               1.3   46205.0\n",
            "2               1.5   37731.0\n",
            "3               2.0   43525.0\n",
            "4               2.2   39891.0\n",
            "5               2.9   56642.0\n",
            "6               3.0   60150.0\n",
            "7               3.2   54445.0\n",
            "8               3.2   64445.0\n",
            "9               3.7   57189.0\n",
            "10              3.9   63218.0\n",
            "11              4.0   55794.0\n",
            "12              4.0   56957.0\n",
            "13              4.1   57081.0\n",
            "14              4.5   61111.0\n",
            "15              4.9   67938.0\n",
            "16              5.1   66029.0\n",
            "17              5.3   83088.0\n",
            "18              5.9   81363.0\n",
            "19              6.0   93940.0\n",
            "20              6.8   91738.0\n",
            "21              7.1   98273.0\n",
            "22              7.9  101302.0\n",
            "23              8.2  113812.0\n",
            "24              8.7  109431.0\n",
            "25              9.0  105582.0\n",
            "26              9.5  116969.0\n",
            "27              9.6  112635.0\n",
            "28             10.3  122391.0\n",
            "29             10.5  121872.0\n",
            "Coefficient: [9564.29585528]\n",
            "\n",
            "Mean squared error: 44385673.998\n",
            "Variance score: 0.907\n"
          ],
          "name": "stdout"
        },
        {
          "output_type": "display_data",
          "data": {
            "image/png": "[encoded data removed]",
            "text/plain": [
              "<matplotlib.figure.Figure at 0x7f9011b9c5d0>"
            ]
          },
          "metadata": {
            "tags": []
          }
        }
      ]
    }
  ]
}